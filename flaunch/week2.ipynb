{
 "cells": [
  {
   "cell_type": "markdown",
   "metadata": {
    "id": "vuf9VLidt7-y"
   },
   "source": [
    "# **Mental Health Chatbot**\n"
   ]
  },
  {
   "cell_type": "code",
   "execution_count": 1,
   "metadata": {
    "id": "ZOzy8lH1x1RK",
    "scrolled": true
   },
   "outputs": [
    {
     "name": "stdout",
     "output_type": "stream",
     "text": [
      "Requirement already satisfied: streamlit in c:\\users\\vedpa\\onedrive - msft\\desktop\\python\\.venv\\lib\\site-packages (1.38.0)\n",
      "Collecting langchain_groq\n",
      "  Downloading langchain_groq-0.2.0-py3-none-any.whl.metadata (2.9 kB)\n",
      "Requirement already satisfied: altair<6,>=4.0 in c:\\users\\vedpa\\onedrive - msft\\desktop\\python\\.venv\\lib\\site-packages (from streamlit) (5.4.1)\n",
      "Requirement already satisfied: blinker<2,>=1.0.0 in c:\\users\\vedpa\\onedrive - msft\\desktop\\python\\.venv\\lib\\site-packages (from streamlit) (1.8.2)\n",
      "Requirement already satisfied: cachetools<6,>=4.0 in c:\\users\\vedpa\\onedrive - msft\\desktop\\python\\.venv\\lib\\site-packages (from streamlit) (5.5.0)\n",
      "Requirement already satisfied: click<9,>=7.0 in c:\\users\\vedpa\\onedrive - msft\\desktop\\python\\.venv\\lib\\site-packages (from streamlit) (8.1.7)\n",
      "Requirement already satisfied: numpy<3,>=1.20 in c:\\users\\vedpa\\onedrive - msft\\desktop\\python\\.venv\\lib\\site-packages (from streamlit) (1.26.4)\n",
      "Requirement already satisfied: packaging<25,>=20 in c:\\users\\vedpa\\onedrive - msft\\desktop\\python\\.venv\\lib\\site-packages (from streamlit) (24.1)\n",
      "Requirement already satisfied: pandas<3,>=1.3.0 in c:\\users\\vedpa\\onedrive - msft\\desktop\\python\\.venv\\lib\\site-packages (from streamlit) (2.2.3)\n",
      "Requirement already satisfied: pillow<11,>=7.1.0 in c:\\users\\vedpa\\onedrive - msft\\desktop\\python\\.venv\\lib\\site-packages (from streamlit) (10.4.0)\n",
      "Requirement already satisfied: protobuf<6,>=3.20 in c:\\users\\vedpa\\onedrive - msft\\desktop\\python\\.venv\\lib\\site-packages (from streamlit) (5.28.2)\n",
      "Requirement already satisfied: pyarrow>=7.0 in c:\\users\\vedpa\\onedrive - msft\\desktop\\python\\.venv\\lib\\site-packages (from streamlit) (17.0.0)\n",
      "Requirement already satisfied: requests<3,>=2.27 in c:\\users\\vedpa\\onedrive - msft\\desktop\\python\\.venv\\lib\\site-packages (from streamlit) (2.32.3)\n",
      "Requirement already satisfied: rich<14,>=10.14.0 in c:\\users\\vedpa\\onedrive - msft\\desktop\\python\\.venv\\lib\\site-packages (from streamlit) (13.8.1)\n",
      "Requirement already satisfied: tenacity<9,>=8.1.0 in c:\\users\\vedpa\\onedrive - msft\\desktop\\python\\.venv\\lib\\site-packages (from streamlit) (8.5.0)\n",
      "Requirement already satisfied: toml<2,>=0.10.1 in c:\\users\\vedpa\\onedrive - msft\\desktop\\python\\.venv\\lib\\site-packages (from streamlit) (0.10.2)\n",
      "Requirement already satisfied: typing-extensions<5,>=4.3.0 in c:\\users\\vedpa\\onedrive - msft\\desktop\\python\\.venv\\lib\\site-packages (from streamlit) (4.12.2)\n",
      "Requirement already satisfied: gitpython!=3.1.19,<4,>=3.0.7 in c:\\users\\vedpa\\onedrive - msft\\desktop\\python\\.venv\\lib\\site-packages (from streamlit) (3.1.43)\n",
      "Requirement already satisfied: pydeck<1,>=0.8.0b4 in c:\\users\\vedpa\\onedrive - msft\\desktop\\python\\.venv\\lib\\site-packages (from streamlit) (0.9.1)\n",
      "Requirement already satisfied: tornado<7,>=6.0.3 in c:\\users\\vedpa\\onedrive - msft\\desktop\\python\\.venv\\lib\\site-packages (from streamlit) (6.4.1)\n",
      "Requirement already satisfied: watchdog<5,>=2.1.5 in c:\\users\\vedpa\\onedrive - msft\\desktop\\python\\.venv\\lib\\site-packages (from streamlit) (4.0.2)\n",
      "Collecting groq<1,>=0.4.1 (from langchain_groq)\n",
      "  Downloading groq-0.11.0-py3-none-any.whl.metadata (13 kB)\n",
      "Requirement already satisfied: langchain-core<0.4,>=0.3 in c:\\users\\vedpa\\onedrive - msft\\desktop\\python\\.venv\\lib\\site-packages (from langchain_groq) (0.3.6)\n",
      "Requirement already satisfied: jinja2 in c:\\users\\vedpa\\onedrive - msft\\desktop\\python\\.venv\\lib\\site-packages (from altair<6,>=4.0->streamlit) (3.1.4)\n",
      "Requirement already satisfied: jsonschema>=3.0 in c:\\users\\vedpa\\onedrive - msft\\desktop\\python\\.venv\\lib\\site-packages (from altair<6,>=4.0->streamlit) (4.23.0)\n",
      "Requirement already satisfied: narwhals>=1.5.2 in c:\\users\\vedpa\\onedrive - msft\\desktop\\python\\.venv\\lib\\site-packages (from altair<6,>=4.0->streamlit) (1.8.4)\n",
      "Requirement already satisfied: colorama in c:\\users\\vedpa\\onedrive - msft\\desktop\\python\\.venv\\lib\\site-packages (from click<9,>=7.0->streamlit) (0.4.6)\n",
      "Requirement already satisfied: gitdb<5,>=4.0.1 in c:\\users\\vedpa\\onedrive - msft\\desktop\\python\\.venv\\lib\\site-packages (from gitpython!=3.1.19,<4,>=3.0.7->streamlit) (4.0.11)\n",
      "Requirement already satisfied: anyio<5,>=3.5.0 in c:\\users\\vedpa\\onedrive - msft\\desktop\\python\\.venv\\lib\\site-packages (from groq<1,>=0.4.1->langchain_groq) (4.6.0)\n",
      "Collecting distro<2,>=1.7.0 (from groq<1,>=0.4.1->langchain_groq)\n",
      "  Using cached distro-1.9.0-py3-none-any.whl.metadata (6.8 kB)\n",
      "Requirement already satisfied: httpx<1,>=0.23.0 in c:\\users\\vedpa\\onedrive - msft\\desktop\\python\\.venv\\lib\\site-packages (from groq<1,>=0.4.1->langchain_groq) (0.27.2)\n",
      "Requirement already satisfied: pydantic<3,>=1.9.0 in c:\\users\\vedpa\\onedrive - msft\\desktop\\python\\.venv\\lib\\site-packages (from groq<1,>=0.4.1->langchain_groq) (2.9.2)\n",
      "Requirement already satisfied: sniffio in c:\\users\\vedpa\\onedrive - msft\\desktop\\python\\.venv\\lib\\site-packages (from groq<1,>=0.4.1->langchain_groq) (1.3.1)\n",
      "Requirement already satisfied: PyYAML>=5.3 in c:\\users\\vedpa\\onedrive - msft\\desktop\\python\\.venv\\lib\\site-packages (from langchain-core<0.4,>=0.3->langchain_groq) (6.0.2)\n",
      "Requirement already satisfied: jsonpatch<2.0,>=1.33 in c:\\users\\vedpa\\onedrive - msft\\desktop\\python\\.venv\\lib\\site-packages (from langchain-core<0.4,>=0.3->langchain_groq) (1.33)\n",
      "Requirement already satisfied: langsmith<0.2.0,>=0.1.125 in c:\\users\\vedpa\\onedrive - msft\\desktop\\python\\.venv\\lib\\site-packages (from langchain-core<0.4,>=0.3->langchain_groq) (0.1.129)\n",
      "Requirement already satisfied: python-dateutil>=2.8.2 in c:\\users\\vedpa\\onedrive - msft\\desktop\\python\\.venv\\lib\\site-packages (from pandas<3,>=1.3.0->streamlit) (2.9.0.post0)\n",
      "Requirement already satisfied: pytz>=2020.1 in c:\\users\\vedpa\\onedrive - msft\\desktop\\python\\.venv\\lib\\site-packages (from pandas<3,>=1.3.0->streamlit) (2024.2)\n",
      "Requirement already satisfied: tzdata>=2022.7 in c:\\users\\vedpa\\onedrive - msft\\desktop\\python\\.venv\\lib\\site-packages (from pandas<3,>=1.3.0->streamlit) (2024.2)\n",
      "Requirement already satisfied: charset-normalizer<4,>=2 in c:\\users\\vedpa\\onedrive - msft\\desktop\\python\\.venv\\lib\\site-packages (from requests<3,>=2.27->streamlit) (3.3.2)\n",
      "Requirement already satisfied: idna<4,>=2.5 in c:\\users\\vedpa\\onedrive - msft\\desktop\\python\\.venv\\lib\\site-packages (from requests<3,>=2.27->streamlit) (3.10)\n",
      "Requirement already satisfied: urllib3<3,>=1.21.1 in c:\\users\\vedpa\\onedrive - msft\\desktop\\python\\.venv\\lib\\site-packages (from requests<3,>=2.27->streamlit) (2.2.3)\n",
      "Requirement already satisfied: certifi>=2017.4.17 in c:\\users\\vedpa\\onedrive - msft\\desktop\\python\\.venv\\lib\\site-packages (from requests<3,>=2.27->streamlit) (2024.8.30)\n",
      "Requirement already satisfied: markdown-it-py>=2.2.0 in c:\\users\\vedpa\\onedrive - msft\\desktop\\python\\.venv\\lib\\site-packages (from rich<14,>=10.14.0->streamlit) (3.0.0)\n",
      "Requirement already satisfied: pygments<3.0.0,>=2.13.0 in c:\\users\\vedpa\\onedrive - msft\\desktop\\python\\.venv\\lib\\site-packages (from rich<14,>=10.14.0->streamlit) (2.18.0)\n",
      "Requirement already satisfied: smmap<6,>=3.0.1 in c:\\users\\vedpa\\onedrive - msft\\desktop\\python\\.venv\\lib\\site-packages (from gitdb<5,>=4.0.1->gitpython!=3.1.19,<4,>=3.0.7->streamlit) (5.0.1)\n",
      "Requirement already satisfied: httpcore==1.* in c:\\users\\vedpa\\onedrive - msft\\desktop\\python\\.venv\\lib\\site-packages (from httpx<1,>=0.23.0->groq<1,>=0.4.1->langchain_groq) (1.0.5)\n",
      "Requirement already satisfied: h11<0.15,>=0.13 in c:\\users\\vedpa\\onedrive - msft\\desktop\\python\\.venv\\lib\\site-packages (from httpcore==1.*->httpx<1,>=0.23.0->groq<1,>=0.4.1->langchain_groq) (0.14.0)\n",
      "Requirement already satisfied: MarkupSafe>=2.0 in c:\\users\\vedpa\\onedrive - msft\\desktop\\python\\.venv\\lib\\site-packages (from jinja2->altair<6,>=4.0->streamlit) (2.1.5)\n",
      "Requirement already satisfied: jsonpointer>=1.9 in c:\\users\\vedpa\\onedrive - msft\\desktop\\python\\.venv\\lib\\site-packages (from jsonpatch<2.0,>=1.33->langchain-core<0.4,>=0.3->langchain_groq) (3.0.0)\n",
      "Requirement already satisfied: attrs>=22.2.0 in c:\\users\\vedpa\\onedrive - msft\\desktop\\python\\.venv\\lib\\site-packages (from jsonschema>=3.0->altair<6,>=4.0->streamlit) (24.2.0)\n",
      "Requirement already satisfied: jsonschema-specifications>=2023.03.6 in c:\\users\\vedpa\\onedrive - msft\\desktop\\python\\.venv\\lib\\site-packages (from jsonschema>=3.0->altair<6,>=4.0->streamlit) (2023.12.1)\n",
      "Requirement already satisfied: referencing>=0.28.4 in c:\\users\\vedpa\\onedrive - msft\\desktop\\python\\.venv\\lib\\site-packages (from jsonschema>=3.0->altair<6,>=4.0->streamlit) (0.35.1)\n",
      "Requirement already satisfied: rpds-py>=0.7.1 in c:\\users\\vedpa\\onedrive - msft\\desktop\\python\\.venv\\lib\\site-packages (from jsonschema>=3.0->altair<6,>=4.0->streamlit) (0.20.0)\n",
      "Requirement already satisfied: orjson<4.0.0,>=3.9.14 in c:\\users\\vedpa\\onedrive - msft\\desktop\\python\\.venv\\lib\\site-packages (from langsmith<0.2.0,>=0.1.125->langchain-core<0.4,>=0.3->langchain_groq) (3.10.7)\n",
      "Requirement already satisfied: mdurl~=0.1 in c:\\users\\vedpa\\onedrive - msft\\desktop\\python\\.venv\\lib\\site-packages (from markdown-it-py>=2.2.0->rich<14,>=10.14.0->streamlit) (0.1.2)\n",
      "Requirement already satisfied: annotated-types>=0.6.0 in c:\\users\\vedpa\\onedrive - msft\\desktop\\python\\.venv\\lib\\site-packages (from pydantic<3,>=1.9.0->groq<1,>=0.4.1->langchain_groq) (0.7.0)\n",
      "Requirement already satisfied: pydantic-core==2.23.4 in c:\\users\\vedpa\\onedrive - msft\\desktop\\python\\.venv\\lib\\site-packages (from pydantic<3,>=1.9.0->groq<1,>=0.4.1->langchain_groq) (2.23.4)\n",
      "Requirement already satisfied: six>=1.5 in c:\\users\\vedpa\\onedrive - msft\\desktop\\python\\.venv\\lib\\site-packages (from python-dateutil>=2.8.2->pandas<3,>=1.3.0->streamlit) (1.16.0)\n",
      "Downloading langchain_groq-0.2.0-py3-none-any.whl (14 kB)\n",
      "Downloading groq-0.11.0-py3-none-any.whl (106 kB)\n",
      "   ---------------------------------------- 0.0/106.5 kB ? eta -:--:--\n",
      "   --- ------------------------------------ 10.2/106.5 kB ? eta -:--:--\n",
      "   ----------- --------------------------- 30.7/106.5 kB 445.2 kB/s eta 0:00:01\n",
      "   -------------- ------------------------ 41.0/106.5 kB 393.8 kB/s eta 0:00:01\n",
      "   ---------------------- ---------------- 61.4/106.5 kB 409.6 kB/s eta 0:00:01\n",
      "   --------------------------------- ----- 92.2/106.5 kB 403.5 kB/s eta 0:00:01\n",
      "   -------------------------------------- 106.5/106.5 kB 411.4 kB/s eta 0:00:00\n",
      "Using cached distro-1.9.0-py3-none-any.whl (20 kB)\n",
      "Installing collected packages: distro, groq, langchain_groq\n",
      "Successfully installed distro-1.9.0 groq-0.11.0 langchain_groq-0.2.0\n"
     ]
    },
    {
     "name": "stderr",
     "output_type": "stream",
     "text": [
      "\n",
      "[notice] A new release of pip is available: 24.0 -> 24.2\n",
      "[notice] To update, run: python.exe -m pip install --upgrade pip\n"
     ]
    }
   ],
   "source": [
    "!pip install streamlit langchain_groq"
   ]
  },
  {
   "cell_type": "code",
   "execution_count": 2,
   "metadata": {
    "id": "4WidjC86qfb6"
   },
   "outputs": [
    {
     "name": "stdout",
     "output_type": "stream",
     "text": [
      "Writing app.py\n"
     ]
    }
   ],
   "source": [
    "%%writefile app.py\n",
    "from langchain_groq import ChatGroq\n",
    "from langchain_core.prompts import PromptTemplate\n",
    "import streamlit as st\n",
    "num=1\n",
    "# Initialize the ChatGroq model\n",
    "llm = ChatGroq(\n",
    "    model=\"llama-3.2-90b-text-preview\",\n",
    "    groq_api_key=\"api key\",  # Ensure the API key is valid\n",
    "    temperature=0\n",
    ")\n",
    "\n",
    "# Set up the prompt templates\n",
    "response_template = PromptTemplate.from_template(\n",
    "    \"\"\"\n",
    "    ### Instructions:\n",
    "    You are a compassionate AI assistant dedicated to supporting mental well-being. Based on the conversation history, craft a thoughtful response that addresses the user's input and provides support.\n",
    "    \n",
    "    ### Conversation History:\n",
    "    {formatted_history}\n",
    "\n",
    "    ### User's Input:\n",
    "    User: {user_input}\n",
    "\n",
    "    ### Your Response(with emojis):\n",
    "    Assistant:\n",
    "    \"\"\"\n",
    ")\n",
    "\n",
    "question_template = PromptTemplate.from_template(\n",
    "    \"\"\"\n",
    "    ### Instructions:\n",
    "    You are a compassionate AI assistant dedicated to supporting mental well-being. Based on the conversation history, craft a thoughtful, open-ended question that gently encourages the user to share their feelings and reflect on their thoughts.\n",
    "\n",
    "    ### Conversation History:\n",
    "    {formatted_history}\n",
    "\n",
    "    ### Your Question:\n",
    "    Question:\n",
    "    give question only \n",
    "    \"\"\"\n",
    ")\n",
    "\n",
    "# Streamlit app title\n",
    "st.title(\"Mental Health Chatbot\")\n",
    "\n",
    "# Initialize session state variables\n",
    "if 'conversation_history' not in st.session_state:\n",
    "    st.session_state.conversation_history = []\n",
    "if 'current_question' not in st.session_state:\n",
    "    st.session_state.current_question = \"How are you feeling today?\"\n",
    "if 'process_input' not in st.session_state:\n",
    "    st.session_state.process_input = False\n",
    "\n",
    "# Display conversation history\n",
    "st.subheader(\"Conversation History\")\n",
    "\n",
    "for q, u, a in st.session_state.conversation_history:\n",
    "    st.success(f\"{num}. Q: {q}\")\n",
    "    st.success(f\"You: {u}\")\n",
    "    st.success(f\"Bot: {a}\")\n",
    "    st.text(\"\")  # Add a blank line for separation\n",
    "    num=num+1\n",
    "# User input\n",
    "user_input = st.text_input(st.session_state.current_question, key=\"user_input\")\n",
    "\n",
    "# Button to submit the input\n",
    "if st.button(\"Submit\"):\n",
    "    st.session_state.process_input = True\n",
    "\n",
    "# Process input when the flag is set\n",
    "if st.session_state.process_input and user_input:\n",
    "    # Format conversation history for prompt\n",
    "    formatted_history = \"\\n\".join(\n",
    "        f\"Question: {msg[0]}\\nUser: {msg[1]}\\nAssistant: {msg[2]}\" for msg in st.session_state.conversation_history\n",
    "    )\n",
    "\n",
    "    # Prepare the prompt for the AI\n",
    "    full_prompt = response_template.format(formatted_history=formatted_history, user_input=user_input)\n",
    "\n",
    "    # Generate a response with a loading spinner\n",
    "    with st.spinner('Generating response...'):\n",
    "        try:\n",
    "            response = llm.predict(full_prompt)\n",
    "            st.success(f\"Bot: {response}\")\n",
    "            \n",
    "            # Add the current interaction to the conversation history\n",
    "            st.session_state.conversation_history.append((st.session_state.current_question, user_input, response))\n",
    "            \n",
    "            # Generate the next question\n",
    "            question_prompt = question_template.format(formatted_history=formatted_history)\n",
    "            next_question = llm.predict(question_template.format(formatted_history=formatted_history))\n",
    "            st.session_state.current_question = next_question.strip()\n",
    "            \n",
    "            # Reset the process_input flag\n",
    "            st.session_state.process_input = False\n",
    "            \n",
    "            # Clear the input box\n",
    "            st.user_input = \"\"\n",
    "            \n",
    "            # Rerun the script to update the UI\n",
    "            st.rerun()\n",
    "\n",
    "        except Exception as e:\n",
    "            st.error(f\"Error: {e}\")\n",
    "            st.session_state.process_input = False\n",
    "\n",
    "# Reset process_input flag if there's no user input\n",
    "if not user_input:\n",
    "    st.session_state.process_input = False"
   ]
  },
  {
   "cell_type": "code",
   "execution_count": 1,
   "metadata": {
    "id": "p6piHO9Xrzxy"
   },
   "outputs": [
    {
     "name": "stdout",
     "output_type": "stream",
     "text": [
      "^C\n"
     ]
    }
   ],
   "source": [
    "# prompt: start streamlit app\n",
    "\n",
    "! streamlit run app.py\n"
   ]
  },
  {
   "cell_type": "code",
   "execution_count": null,
   "metadata": {},
   "outputs": [],
   "source": []
  }
 ],
 "metadata": {
  "colab": {
   "provenance": []
  },
  "kernelspec": {
   "display_name": "Python 3 (ipykernel)",
   "language": "python",
   "name": "python3"
  },
  "language_info": {
   "codemirror_mode": {
    "name": "ipython",
    "version": 3
   },
   "file_extension": ".py",
   "mimetype": "text/x-python",
   "name": "python",
   "nbconvert_exporter": "python",
   "pygments_lexer": "ipython3",
   "version": "3.12.4"
  }
 },
 "nbformat": 4,
 "nbformat_minor": 4
}
